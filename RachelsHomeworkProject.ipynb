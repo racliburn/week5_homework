{
 "cells": [
  {
   "cell_type": "markdown",
   "metadata": {},
   "source": [
    "Instructions:\n",
    " Open up terminal - check\n",
    " Make a new repository called \"week5_homework\" - check\n",
    " initialize a new git repository inside this folder - check\n",
    " Start Jupyter notebook and make a new notebook - voila!"
   ]
  },
  {
   "cell_type": "markdown",
   "metadata": {},
   "source": [
    "In  new notebook, use one cell to define a function\n",
    "\n",
    "My function will be predicting a child's height, formula taken from the Mayo Clinic website"
   ]
  },
  {
   "cell_type": "code",
   "execution_count": 73,
   "metadata": {
    "collapsed": false
   },
   "outputs": [],
   "source": [
    "def predict_height(mother_height,father_height,sex):\n",
    "    if sex == 'boy':\n",
    "        predict_height=(mother_height+father_height+5)/2\n",
    "    elif sex == 'girl':\n",
    "        predict_height=(mother_height+father_height-5)/2\n",
    "    print(predict_height)\n",
    "    return;\n"
   ]
  },
  {
   "cell_type": "markdown",
   "metadata": {},
   "source": [
    "Now I shall test whether the function works as I intend, using Justin and I's heights."
   ]
  },
  {
   "cell_type": "code",
   "execution_count": 76,
   "metadata": {
    "collapsed": false
   },
   "outputs": [
    {
     "name": "stdout",
     "output_type": "stream",
     "text": [
      "68.5\n"
     ]
    }
   ],
   "source": [
    "predict_height(72,70,'girl')"
   ]
  },
  {
   "cell_type": "markdown",
   "metadata": {},
   "source": [
    "A wild success!!\n",
    "\n",
    "Now I will add the first few assert statements, to ensure that the parameters are the correct type."
   ]
  },
  {
   "cell_type": "code",
   "execution_count": 75,
   "metadata": {
    "collapsed": true
   },
   "outputs": [],
   "source": [
    "def predict_height(mother_height,father_height,sex):\n",
    "    assert(type(mother_height) is int), \"ERROR: Mother's height must be an integer\"\n",
    "    assert(type(father_height) is int), \"ERROR: Father's height must be an integer\"\n",
    "    assert(type(sex) is str), \"ERROR: Sex must be either 'girl' or 'boy'\"\n",
    "    if sex == 'boy':\n",
    "        predict_height=(mother_height+father_height+5)/2\n",
    "    elif sex == 'girl':\n",
    "        predict_height=(mother_height+father_height-5)/2\n",
    "    print(predict_height)\n",
    "    return;"
   ]
  },
  {
   "cell_type": "code",
   "execution_count": 77,
   "metadata": {
    "collapsed": false
   },
   "outputs": [
    {
     "name": "stdout",
     "output_type": "stream",
     "text": [
      "65.5\n"
     ]
    }
   ],
   "source": [
    "predict_height(62, 74, 'girl')"
   ]
  },
  {
   "cell_type": "markdown",
   "metadata": {},
   "source": [
    "Works like normal if the correct input is given"
   ]
  },
  {
   "cell_type": "code",
   "execution_count": 78,
   "metadata": {
    "collapsed": false
   },
   "outputs": [
    {
     "ename": "AssertionError",
     "evalue": "ERROR: Sex must be either 'girl' or 'boy'",
     "output_type": "error",
     "traceback": [
      "\u001b[0;31m---------------------------------------------------------------------------\u001b[0m",
      "\u001b[0;31mAssertionError\u001b[0m                            Traceback (most recent call last)",
      "\u001b[0;32m<ipython-input-78-319739983001>\u001b[0m in \u001b[0;36m<module>\u001b[0;34m()\u001b[0m\n\u001b[0;32m----> 1\u001b[0;31m \u001b[0mpredict_height\u001b[0m\u001b[1;33m(\u001b[0m\u001b[1;36m62\u001b[0m\u001b[1;33m,\u001b[0m\u001b[1;36m74\u001b[0m\u001b[1;33m,\u001b[0m\u001b[1;36m1\u001b[0m\u001b[1;33m)\u001b[0m\u001b[1;33m\u001b[0m\u001b[0m\n\u001b[0m",
      "\u001b[0;32m<ipython-input-75-77cd482661fd>\u001b[0m in \u001b[0;36mpredict_height\u001b[0;34m(mother_height, father_height, sex)\u001b[0m\n\u001b[1;32m      2\u001b[0m     \u001b[1;32massert\u001b[0m\u001b[1;33m(\u001b[0m\u001b[0mtype\u001b[0m\u001b[1;33m(\u001b[0m\u001b[0mmother_height\u001b[0m\u001b[1;33m)\u001b[0m \u001b[1;32mis\u001b[0m \u001b[0mint\u001b[0m\u001b[1;33m)\u001b[0m\u001b[1;33m,\u001b[0m \u001b[1;34m\"ERROR: Mother's height must be an integer\"\u001b[0m\u001b[1;33m\u001b[0m\u001b[0m\n\u001b[1;32m      3\u001b[0m     \u001b[1;32massert\u001b[0m\u001b[1;33m(\u001b[0m\u001b[0mtype\u001b[0m\u001b[1;33m(\u001b[0m\u001b[0mfather_height\u001b[0m\u001b[1;33m)\u001b[0m \u001b[1;32mis\u001b[0m \u001b[0mint\u001b[0m\u001b[1;33m)\u001b[0m\u001b[1;33m,\u001b[0m \u001b[1;34m\"ERROR: Father's height must be an integer\"\u001b[0m\u001b[1;33m\u001b[0m\u001b[0m\n\u001b[0;32m----> 4\u001b[0;31m     \u001b[1;32massert\u001b[0m\u001b[1;33m(\u001b[0m\u001b[0mtype\u001b[0m\u001b[1;33m(\u001b[0m\u001b[0msex\u001b[0m\u001b[1;33m)\u001b[0m \u001b[1;32mis\u001b[0m \u001b[0mstr\u001b[0m\u001b[1;33m)\u001b[0m\u001b[1;33m,\u001b[0m \u001b[1;34m\"ERROR: Sex must be either 'girl' or 'boy'\"\u001b[0m\u001b[1;33m\u001b[0m\u001b[0m\n\u001b[0m\u001b[1;32m      5\u001b[0m     \u001b[1;32mif\u001b[0m \u001b[0msex\u001b[0m \u001b[1;33m==\u001b[0m \u001b[1;34m'boy'\u001b[0m\u001b[1;33m:\u001b[0m\u001b[1;33m\u001b[0m\u001b[0m\n\u001b[1;32m      6\u001b[0m         \u001b[0mpredict_height\u001b[0m\u001b[1;33m=\u001b[0m\u001b[1;33m(\u001b[0m\u001b[0mmother_height\u001b[0m\u001b[1;33m+\u001b[0m\u001b[0mfather_height\u001b[0m\u001b[1;33m+\u001b[0m\u001b[1;36m5\u001b[0m\u001b[1;33m)\u001b[0m\u001b[1;33m/\u001b[0m\u001b[1;36m2\u001b[0m\u001b[1;33m\u001b[0m\u001b[0m\n",
      "\u001b[0;31mAssertionError\u001b[0m: ERROR: Sex must be either 'girl' or 'boy'"
     ]
    }
   ],
   "source": [
    "predict_height(62,74,1)"
   ]
  },
  {
   "cell_type": "markdown",
   "metadata": {},
   "source": [
    "And shows correct error if given the wrong info.\n",
    "\n",
    "Now time to add more assert statements, namely, to check whether the function outputs the appropriate error message when given incorrect parameters."
   ]
  },
  {
   "cell_type": "code",
   "execution_count": 102,
   "metadata": {
    "collapsed": false
   },
   "outputs": [],
   "source": [
    "def predict_height(mother_height,father_height,sex):\n",
    "    assert(type(mother_height) is int), \"ERROR: Mother's height must be an integer\"\n",
    "    assert(type(father_height) is int), \"ERROR: Father's height must be an integer\"\n",
    "    assert(type(sex) is str), \"ERROR: Sex must be either 'girl' or 'boy'\"\n",
    "    assert(mother_height<84),\"Please enter height in inches.\"\n",
    "    assert(father_height<90),\"Please enter height in inches.\"\n",
    "    assert(sex is 'boy' or sex is 'girl'),\"ERROR: Please write either 'boy' or 'girl' to indicate predicted child's sex\"\n",
    "    if sex == 'boy':\n",
    "        predict_height=(mother_height+father_height+5)/2\n",
    "        print(predict_height)\n",
    "    elif sex == 'girl':\n",
    "        predict_height=(mother_height+father_height-5)/2\n",
    "        print(predict_height)\n",
    "    return;"
   ]
  },
  {
   "cell_type": "code",
   "execution_count": 94,
   "metadata": {
    "collapsed": false
   },
   "outputs": [
    {
     "ename": "AssertionError",
     "evalue": "Please enter height in inches.",
     "output_type": "error",
     "traceback": [
      "\u001b[0;31m---------------------------------------------------------------------------\u001b[0m",
      "\u001b[0;31mAssertionError\u001b[0m                            Traceback (most recent call last)",
      "\u001b[0;32m<ipython-input-94-3f2890d4a864>\u001b[0m in \u001b[0;36m<module>\u001b[0;34m()\u001b[0m\n\u001b[0;32m----> 1\u001b[0;31m \u001b[0mpredict_height\u001b[0m\u001b[1;33m(\u001b[0m\u001b[1;36m183\u001b[0m\u001b[1;33m,\u001b[0m\u001b[1;36m178\u001b[0m\u001b[1;33m,\u001b[0m\u001b[1;34m'boy'\u001b[0m\u001b[1;33m)\u001b[0m\u001b[1;33m\u001b[0m\u001b[0m\n\u001b[0m",
      "\u001b[0;32m<ipython-input-93-d7cdbab1fa44>\u001b[0m in \u001b[0;36mpredict_height\u001b[0;34m(mother_height, father_height, sex)\u001b[0m\n\u001b[1;32m      3\u001b[0m     \u001b[1;32massert\u001b[0m\u001b[1;33m(\u001b[0m\u001b[0mtype\u001b[0m\u001b[1;33m(\u001b[0m\u001b[0mfather_height\u001b[0m\u001b[1;33m)\u001b[0m \u001b[1;32mis\u001b[0m \u001b[0mint\u001b[0m\u001b[1;33m)\u001b[0m\u001b[1;33m,\u001b[0m \u001b[1;34m\"ERROR: Father's height must be an integer\"\u001b[0m\u001b[1;33m\u001b[0m\u001b[0m\n\u001b[1;32m      4\u001b[0m     \u001b[1;32massert\u001b[0m\u001b[1;33m(\u001b[0m\u001b[0mtype\u001b[0m\u001b[1;33m(\u001b[0m\u001b[0msex\u001b[0m\u001b[1;33m)\u001b[0m \u001b[1;32mis\u001b[0m \u001b[0mstr\u001b[0m\u001b[1;33m)\u001b[0m\u001b[1;33m,\u001b[0m \u001b[1;34m\"ERROR: Sex must be either 'girl' or 'boy'\"\u001b[0m\u001b[1;33m\u001b[0m\u001b[0m\n\u001b[0;32m----> 5\u001b[0;31m     \u001b[1;32massert\u001b[0m\u001b[1;33m(\u001b[0m\u001b[0mmother_height\u001b[0m\u001b[1;33m<\u001b[0m\u001b[1;36m84\u001b[0m\u001b[1;33m)\u001b[0m\u001b[1;33m,\u001b[0m\u001b[1;34m\"Please enter height in inches.\"\u001b[0m\u001b[1;33m\u001b[0m\u001b[0m\n\u001b[0m\u001b[1;32m      6\u001b[0m     \u001b[1;32massert\u001b[0m\u001b[1;33m(\u001b[0m\u001b[0mfather_height\u001b[0m\u001b[1;33m<\u001b[0m\u001b[1;36m90\u001b[0m\u001b[1;33m)\u001b[0m\u001b[1;33m,\u001b[0m\u001b[1;34m\"Please enter height in inches.\"\u001b[0m\u001b[1;33m\u001b[0m\u001b[0m\n\u001b[1;32m      7\u001b[0m     \u001b[1;32massert\u001b[0m\u001b[1;33m(\u001b[0m\u001b[0msex\u001b[0m \u001b[1;32mis\u001b[0m \u001b[1;34m'boy'\u001b[0m \u001b[1;32mor\u001b[0m \u001b[0msex\u001b[0m \u001b[1;32mis\u001b[0m \u001b[1;34m'girl'\u001b[0m\u001b[1;33m)\u001b[0m\u001b[1;33m,\u001b[0m\u001b[1;34m\"ERROR: Please write either 'boy' or 'girl' to indicate predicted child's sex\"\u001b[0m\u001b[1;33m\u001b[0m\u001b[0m\n",
      "\u001b[0;31mAssertionError\u001b[0m: Please enter height in inches."
     ]
    }
   ],
   "source": [
    "predict_height(183,178,'boy')"
   ]
  },
  {
   "cell_type": "markdown",
   "metadata": {},
   "source": [
    "Yay! When I entered our height in cm instead of inches, it returned an error code indicating we should enter data in inches."
   ]
  },
  {
   "cell_type": "code",
   "execution_count": 95,
   "metadata": {
    "collapsed": false
   },
   "outputs": [
    {
     "ename": "AssertionError",
     "evalue": "ERROR: Please write either 'boy' or 'girl' to indicate predicted child's sex",
     "output_type": "error",
     "traceback": [
      "\u001b[0;31m---------------------------------------------------------------------------\u001b[0m",
      "\u001b[0;31mAssertionError\u001b[0m                            Traceback (most recent call last)",
      "\u001b[0;32m<ipython-input-95-4b9268cb5f52>\u001b[0m in \u001b[0;36m<module>\u001b[0;34m()\u001b[0m\n\u001b[0;32m----> 1\u001b[0;31m \u001b[0mpredict_height\u001b[0m\u001b[1;33m(\u001b[0m\u001b[1;36m72\u001b[0m\u001b[1;33m,\u001b[0m\u001b[1;36m70\u001b[0m\u001b[1;33m,\u001b[0m\u001b[1;34m'male'\u001b[0m\u001b[1;33m)\u001b[0m\u001b[1;33m\u001b[0m\u001b[0m\n\u001b[0m",
      "\u001b[0;32m<ipython-input-93-d7cdbab1fa44>\u001b[0m in \u001b[0;36mpredict_height\u001b[0;34m(mother_height, father_height, sex)\u001b[0m\n\u001b[1;32m      5\u001b[0m     \u001b[1;32massert\u001b[0m\u001b[1;33m(\u001b[0m\u001b[0mmother_height\u001b[0m\u001b[1;33m<\u001b[0m\u001b[1;36m84\u001b[0m\u001b[1;33m)\u001b[0m\u001b[1;33m,\u001b[0m\u001b[1;34m\"Please enter height in inches.\"\u001b[0m\u001b[1;33m\u001b[0m\u001b[0m\n\u001b[1;32m      6\u001b[0m     \u001b[1;32massert\u001b[0m\u001b[1;33m(\u001b[0m\u001b[0mfather_height\u001b[0m\u001b[1;33m<\u001b[0m\u001b[1;36m90\u001b[0m\u001b[1;33m)\u001b[0m\u001b[1;33m,\u001b[0m\u001b[1;34m\"Please enter height in inches.\"\u001b[0m\u001b[1;33m\u001b[0m\u001b[0m\n\u001b[0;32m----> 7\u001b[0;31m     \u001b[1;32massert\u001b[0m\u001b[1;33m(\u001b[0m\u001b[0msex\u001b[0m \u001b[1;32mis\u001b[0m \u001b[1;34m'boy'\u001b[0m \u001b[1;32mor\u001b[0m \u001b[0msex\u001b[0m \u001b[1;32mis\u001b[0m \u001b[1;34m'girl'\u001b[0m\u001b[1;33m)\u001b[0m\u001b[1;33m,\u001b[0m\u001b[1;34m\"ERROR: Please write either 'boy' or 'girl' to indicate predicted child's sex\"\u001b[0m\u001b[1;33m\u001b[0m\u001b[0m\n\u001b[0m\u001b[1;32m      8\u001b[0m     \u001b[1;32mif\u001b[0m \u001b[0msex\u001b[0m \u001b[1;33m==\u001b[0m \u001b[1;34m'boy'\u001b[0m\u001b[1;33m:\u001b[0m\u001b[1;33m\u001b[0m\u001b[0m\n\u001b[1;32m      9\u001b[0m         \u001b[0mpredict_height\u001b[0m\u001b[1;33m=\u001b[0m\u001b[1;33m(\u001b[0m\u001b[0mmother_height\u001b[0m\u001b[1;33m+\u001b[0m\u001b[0mfather_height\u001b[0m\u001b[1;33m+\u001b[0m\u001b[1;36m5\u001b[0m\u001b[1;33m)\u001b[0m\u001b[1;33m/\u001b[0m\u001b[1;36m2\u001b[0m\u001b[1;33m\u001b[0m\u001b[0m\n",
      "\u001b[0;31mAssertionError\u001b[0m: ERROR: Please write either 'boy' or 'girl' to indicate predicted child's sex"
     ]
    }
   ],
   "source": [
    "predict_height(72,70,'male')"
   ]
  },
  {
   "cell_type": "markdown",
   "metadata": {},
   "source": [
    "YAYYYY!! "
   ]
  }
 ],
 "metadata": {
  "kernelspec": {
   "display_name": "Python 3",
   "language": "python",
   "name": "python3"
  },
  "language_info": {
   "codemirror_mode": {
    "name": "ipython",
    "version": 3
   },
   "file_extension": ".py",
   "mimetype": "text/x-python",
   "name": "python",
   "nbconvert_exporter": "python",
   "pygments_lexer": "ipython3",
   "version": "3.6.0"
  }
 },
 "nbformat": 4,
 "nbformat_minor": 2
}
